{
 "cells": [
  {
   "cell_type": "code",
   "execution_count": 1,
   "metadata": {},
   "outputs": [],
   "source": [
    "import os"
   ]
  },
  {
   "cell_type": "code",
   "execution_count": 2,
   "metadata": {},
   "outputs": [
    {
     "data": {
      "text/plain": [
       "'d:\\\\AI-Projects\\\\Chicken-diseases-classification\\\\research'"
      ]
     },
     "execution_count": 2,
     "metadata": {},
     "output_type": "execute_result"
    }
   ],
   "source": [
    "%pwd"
   ]
  },
  {
   "cell_type": "code",
   "execution_count": 3,
   "metadata": {},
   "outputs": [
    {
     "data": {
      "text/plain": [
       "'d:\\\\AI-Projects\\\\Chicken-diseases-classification'"
      ]
     },
     "execution_count": 3,
     "metadata": {},
     "output_type": "execute_result"
    }
   ],
   "source": [
    "os.chdir('../')\n",
    "%pwd"
   ]
  },
  {
   "cell_type": "code",
   "execution_count": 4,
   "metadata": {},
   "outputs": [],
   "source": [
    "from dataclasses import dataclass\n",
    "from pathlib import Path\n",
    "\n",
    "@dataclass(frozen=True)\n",
    "class PrepareCallbackConfig:\n",
    "    root_dir: Path\n",
    "    tensorboard_root_log_dir: Path\n",
    "    checkpoint_model_filepath: Path"
   ]
  },
  {
   "cell_type": "code",
   "execution_count": 5,
   "metadata": {},
   "outputs": [],
   "source": [
    "from ChickenDiseaseClassifier.constants import  *\n",
    "from ChickenDiseaseClassifier.utils.common import  read_yaml,create_directories"
   ]
  },
  {
   "cell_type": "code",
   "execution_count": 6,
   "metadata": {},
   "outputs": [],
   "source": [
    "class ConfigurationManager:\n",
    "    def __init__(\n",
    "        \n",
    "        self,\n",
    "        config_filepath= CONFIG_FILE_PATH,\n",
    "        params_filepath = PARAMS_FILE_PATH\n",
    "    ):\n",
    "        self.config=read_yaml(config_filepath)\n",
    "        self.params=read_yaml(params_filepath)\n",
    "        create_directories([self.config.artifacts_root])\n",
    "\n",
    "\n",
    "    def get_prepare_callback_config(self)->PrepareCallbackConfig:\n",
    "        config = self.config.prepare_callbacks\n",
    "        model_ckpt_dir= os.path.dirname(config.checkpoint_model_filepath)\n",
    "        create_directories([\n",
    "            Path(model_ckpt_dir),\n",
    "            Path(config.tensor_root_log_dir)\n",
    "        ])\n",
    "\n",
    "        prepare_callback_config= PrepareCallbackConfig(\n",
    "            root_dir= Path(config.root_dir),\n",
    "            tensorboard_root_log_dir= Path(config.tensor_root_log_dir),\n",
    "            checkpoint_model_filepath=Path(config.checkpoint_model_filepath)\n",
    "        )\n",
    "\n",
    "        return prepare_callback_config"
   ]
  },
  {
   "cell_type": "code",
   "execution_count": 8,
   "metadata": {},
   "outputs": [],
   "source": [
    "import os\n",
    "import urllib.request as request\n",
    "import zipfile\n",
    "from ChickenDiseaseClassifier import logger\n",
    "import tensorflow as tf \n",
    "import time\n"
   ]
  },
  {
   "cell_type": "code",
   "execution_count": 13,
   "metadata": {},
   "outputs": [],
   "source": [
    "class PrepareCallback:\n",
    "    def __init__(self, config: PrepareCallbackConfig):\n",
    "        self.config = config\n",
    "        \n",
    "    @property\n",
    "    def __create_tb_callbacks(self):\n",
    "        timestamp = time.strftime(\"%Y-%m-%d-%H-%M-%S\")\n",
    "        tb_running_log_dir = os.path.join(\n",
    "            self.config.tensorboard_root_log_dir,\n",
    "            f\"tb_logs_at_{timestamp}\",\n",
    "        )\n",
    "        return tf.keras.callbacks.TensorBoard(log_dir=tb_running_log_dir)\n",
    "    \n",
    "    @property\n",
    "    def __create_ckpt_callbacks(self):\n",
    "        filepath = Path(self.config.checkpoint_model_filepath).with_suffix('.keras')\n",
    "        return tf.keras.callbacks.ModelCheckpoint(\n",
    "            filepath=str(filepath),\n",
    "            save_best_only=True,\n",
    "    )\n",
    "\n",
    "    \n",
    "    def get_tb_ckpt_callbacks(self):\n",
    "        return [self.__create_tb_callbacks, self.__create_ckpt_callbacks]\n",
    "                                  \n",
    "\n"
   ]
  },
  {
   "cell_type": "code",
   "execution_count": 14,
   "metadata": {},
   "outputs": [
    {
     "name": "stdout",
     "output_type": "stream",
     "text": [
      "[2024-11-16 19:15:27,793:INFO:common:Successfully loaded YAML file: config\\config.yaml]\n",
      "[2024-11-16 19:15:27,803:INFO:common:Successfully loaded YAML file: params.yaml]\n",
      "[2024-11-16 19:15:27,808:INFO:common:Directory created: artifacts]\n",
      "[2024-11-16 19:15:27,812:INFO:common:Directory created: artifacts\\prepare_callbacks\\checkpoint_dir]\n",
      "[2024-11-16 19:15:27,817:INFO:common:Directory created: artifacts\\prepare_callbacks\\tensor_log_dir]\n"
     ]
    },
    {
     "ename": "TypeError",
     "evalue": "ModelCheckpoint.__init__() got an unexpected keyword argument 'save_format'",
     "output_type": "error",
     "traceback": [
      "\u001b[1;31m---------------------------------------------------------------------------\u001b[0m",
      "\u001b[1;31mTypeError\u001b[0m                                 Traceback (most recent call last)",
      "\u001b[1;32md:\\AI-Projects\\Chicken-diseases-classification\\research\\03_prepare_call_backs.ipynb Cell 9\u001b[0m line \u001b[0;36m8\n\u001b[0;32m      <a href='vscode-notebook-cell:/d%3A/AI-Projects/Chicken-diseases-classification/research/03_prepare_call_backs.ipynb#X11sZmlsZQ%3D%3D?line=4'>5</a>\u001b[0m     callback_list\u001b[39m=\u001b[39m prepare_callback\u001b[39m.\u001b[39mget_tb_ckpt_callbacks()\n\u001b[0;32m      <a href='vscode-notebook-cell:/d%3A/AI-Projects/Chicken-diseases-classification/research/03_prepare_call_backs.ipynb#X11sZmlsZQ%3D%3D?line=6'>7</a>\u001b[0m \u001b[39mexcept\u001b[39;00m \u001b[39mException\u001b[39;00m \u001b[39mas\u001b[39;00m e:\n\u001b[1;32m----> <a href='vscode-notebook-cell:/d%3A/AI-Projects/Chicken-diseases-classification/research/03_prepare_call_backs.ipynb#X11sZmlsZQ%3D%3D?line=7'>8</a>\u001b[0m     \u001b[39mraise\u001b[39;00m e\n",
      "\u001b[1;32md:\\AI-Projects\\Chicken-diseases-classification\\research\\03_prepare_call_backs.ipynb Cell 9\u001b[0m line \u001b[0;36m5\n\u001b[0;32m      <a href='vscode-notebook-cell:/d%3A/AI-Projects/Chicken-diseases-classification/research/03_prepare_call_backs.ipynb#X11sZmlsZQ%3D%3D?line=2'>3</a>\u001b[0m     prepare_callback_config \u001b[39m=\u001b[39m config\u001b[39m.\u001b[39mget_prepare_callback_config()\n\u001b[0;32m      <a href='vscode-notebook-cell:/d%3A/AI-Projects/Chicken-diseases-classification/research/03_prepare_call_backs.ipynb#X11sZmlsZQ%3D%3D?line=3'>4</a>\u001b[0m     prepare_callback\u001b[39m=\u001b[39m PrepareCallback(config\u001b[39m=\u001b[39mprepare_callback_config)\n\u001b[1;32m----> <a href='vscode-notebook-cell:/d%3A/AI-Projects/Chicken-diseases-classification/research/03_prepare_call_backs.ipynb#X11sZmlsZQ%3D%3D?line=4'>5</a>\u001b[0m     callback_list\u001b[39m=\u001b[39m prepare_callback\u001b[39m.\u001b[39mget_tb_ckpt_callbacks()\n\u001b[0;32m      <a href='vscode-notebook-cell:/d%3A/AI-Projects/Chicken-diseases-classification/research/03_prepare_call_backs.ipynb#X11sZmlsZQ%3D%3D?line=6'>7</a>\u001b[0m \u001b[39mexcept\u001b[39;00m \u001b[39mException\u001b[39;00m \u001b[39mas\u001b[39;00m e:\n\u001b[0;32m      <a href='vscode-notebook-cell:/d%3A/AI-Projects/Chicken-diseases-classification/research/03_prepare_call_backs.ipynb#X11sZmlsZQ%3D%3D?line=7'>8</a>\u001b[0m     \u001b[39mraise\u001b[39;00m e\n",
      "\u001b[1;32md:\\AI-Projects\\Chicken-diseases-classification\\research\\03_prepare_call_backs.ipynb Cell 9\u001b[0m line \u001b[0;36m2\n\u001b[0;32m     <a href='vscode-notebook-cell:/d%3A/AI-Projects/Chicken-diseases-classification/research/03_prepare_call_backs.ipynb#X11sZmlsZQ%3D%3D?line=23'>24</a>\u001b[0m \u001b[39mdef\u001b[39;00m \u001b[39mget_tb_ckpt_callbacks\u001b[39m(\u001b[39mself\u001b[39m):\n\u001b[1;32m---> <a href='vscode-notebook-cell:/d%3A/AI-Projects/Chicken-diseases-classification/research/03_prepare_call_backs.ipynb#X11sZmlsZQ%3D%3D?line=24'>25</a>\u001b[0m     \u001b[39mreturn\u001b[39;00m [\u001b[39mself\u001b[39m\u001b[39m.\u001b[39m__create_tb_callbacks, \u001b[39mself\u001b[39m\u001b[39m.\u001b[39m__create_ckpt_callbacks]\n",
      "\u001b[1;32md:\\AI-Projects\\Chicken-diseases-classification\\research\\03_prepare_call_backs.ipynb Cell 9\u001b[0m line \u001b[0;36m1\n\u001b[0;32m     <a href='vscode-notebook-cell:/d%3A/AI-Projects/Chicken-diseases-classification/research/03_prepare_call_backs.ipynb#X11sZmlsZQ%3D%3D?line=13'>14</a>\u001b[0m \u001b[39m@property\u001b[39m\n\u001b[0;32m     <a href='vscode-notebook-cell:/d%3A/AI-Projects/Chicken-diseases-classification/research/03_prepare_call_backs.ipynb#X11sZmlsZQ%3D%3D?line=14'>15</a>\u001b[0m \u001b[39mdef\u001b[39;00m \u001b[39m__create_ckpt_callbacks\u001b[39m(\u001b[39mself\u001b[39m):\n\u001b[1;32m---> <a href='vscode-notebook-cell:/d%3A/AI-Projects/Chicken-diseases-classification/research/03_prepare_call_backs.ipynb#X11sZmlsZQ%3D%3D?line=15'>16</a>\u001b[0m     \u001b[39mreturn\u001b[39;00m tf\u001b[39m.\u001b[39mkeras\u001b[39m.\u001b[39mcallbacks\u001b[39m.\u001b[39mModelCheckpoint(\n\u001b[0;32m     <a href='vscode-notebook-cell:/d%3A/AI-Projects/Chicken-diseases-classification/research/03_prepare_call_backs.ipynb#X11sZmlsZQ%3D%3D?line=16'>17</a>\u001b[0m         filepath\u001b[39m=\u001b[39m\u001b[39mself\u001b[39m\u001b[39m.\u001b[39mconfig\u001b[39m.\u001b[39mcheckpoint_model_filepath,\n\u001b[0;32m     <a href='vscode-notebook-cell:/d%3A/AI-Projects/Chicken-diseases-classification/research/03_prepare_call_backs.ipynb#X11sZmlsZQ%3D%3D?line=17'>18</a>\u001b[0m         save_best_only\u001b[39m=\u001b[39m\u001b[39mTrue\u001b[39;00m,\n\u001b[0;32m     <a href='vscode-notebook-cell:/d%3A/AI-Projects/Chicken-diseases-classification/research/03_prepare_call_backs.ipynb#X11sZmlsZQ%3D%3D?line=18'>19</a>\u001b[0m         save_format\u001b[39m=\u001b[39m\u001b[39m'\u001b[39m\u001b[39mh5\u001b[39m\u001b[39m'\u001b[39m,\n\u001b[0;32m     <a href='vscode-notebook-cell:/d%3A/AI-Projects/Chicken-diseases-classification/research/03_prepare_call_backs.ipynb#X11sZmlsZQ%3D%3D?line=19'>20</a>\u001b[0m )\n",
      "\u001b[1;31mTypeError\u001b[0m: ModelCheckpoint.__init__() got an unexpected keyword argument 'save_format'"
     ]
    }
   ],
   "source": [
    "try:\n",
    "    config = ConfigurationManager()\n",
    "    prepare_callback_config = config.get_prepare_callback_config()\n",
    "    prepare_callback= PrepareCallback(config=prepare_callback_config)\n",
    "    callback_list= prepare_callback.get_tb_ckpt_callbacks()\n",
    "    \n",
    "except Exception as e:\n",
    "    raise e"
   ]
  },
  {
   "cell_type": "code",
   "execution_count": null,
   "metadata": {},
   "outputs": [],
   "source": []
  }
 ],
 "metadata": {
  "kernelspec": {
   "display_name": "base",
   "language": "python",
   "name": "python3"
  },
  "language_info": {
   "codemirror_mode": {
    "name": "ipython",
    "version": 3
   },
   "file_extension": ".py",
   "mimetype": "text/x-python",
   "name": "python",
   "nbconvert_exporter": "python",
   "pygments_lexer": "ipython3",
   "version": "3.11.7"
  }
 },
 "nbformat": 4,
 "nbformat_minor": 2
}
